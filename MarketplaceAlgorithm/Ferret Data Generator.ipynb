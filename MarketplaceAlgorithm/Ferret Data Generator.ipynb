{
 "cells": [
  {
   "cell_type": "markdown",
   "metadata": {},
   "source": [
    "# Ferret Demographic Data Generator\n",
    "A simple program to generate some Ferret Demographic data."
   ]
  },
  {
   "cell_type": "code",
   "execution_count": null,
   "metadata": {},
   "outputs": [],
   "source": [
    "import random, uuid, csv\n",
    "\n",
    "number_of_rows = 1000\n",
    "\n",
    "ferretData = []\n",
    "ferretRow = []\n",
    "\n",
    "#Header Row\n",
    "ferretRow = ['ferretID','age','sleepSituation','foodSituation','groomingSituation','livingSituation','disposition']\n",
    "ferretData.append(ferretRow)\n",
    "\n",
    "for i in range(number_of_rows):\n",
    "    ferretRow = []\n",
    "    ferretID = uuid.uuid4().hex\n",
    "    age = random.randint(1,10)\n",
    "    sleepSituation = random.randint(0,24)\n",
    "    foodSituation = random.choice(['fed','hungry'])\n",
    "    groomingSituation = random.choice(['clean','dirty'])\n",
    "    livingSituation = random.choice(['luxary','comfortable','sparse','minimal'])\n",
    "    if sleepSituation < 6 or foodSituation == 'hungry':\n",
    "        disposition = 'angry'\n",
    "    else:\n",
    "        disposition = 'nice'\n",
    "    ferretRow = [ferretID, age, sleepSituation,foodSituation,groomingSituation,livingSituation, disposition]\n",
    "    ferretData.append(ferretRow)\n",
    "    \n",
    "with open('./data/ferretData.csv','w') as csvFile:\n",
    "    writer = csv.writer(csvFile)\n",
    "    writer.writerows(ferretData)\n",
    "\n",
    "csvFile.close()\n",
    "print(len(ferretData)-1, \"data rows written.\")\n"
   ]
  }
 ],
 "metadata": {
  "kernelspec": {
   "display_name": "conda_mxnet_p36",
   "language": "python",
   "name": "conda_mxnet_p36"
  },
  "language_info": {
   "codemirror_mode": {
    "name": "ipython",
    "version": 3
   },
   "file_extension": ".py",
   "mimetype": "text/x-python",
   "name": "python",
   "nbconvert_exporter": "python",
   "pygments_lexer": "ipython3",
   "version": "3.6.5"
  }
 },
 "nbformat": 4,
 "nbformat_minor": 4
}
