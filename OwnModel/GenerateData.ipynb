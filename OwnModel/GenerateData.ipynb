{
 "cells": [
  {
   "cell_type": "markdown",
   "metadata": {},
   "source": [
    "# Create some test data\n",
    "As hard as it might be to believe, there are a limited number of angry ferret photos available.  I was able to find 8. \n",
    "So, we have to do a data scientist trick of augmenting the data we have to make it seem like it's more than just 8 samples.\n",
    "We're going to use a python library called Augmentor.  We could also do this with Keras on the fly but doing it this way to simulate a batch of training data.\n"
   ]
  },
  {
   "cell_type": "markdown",
   "metadata": {},
   "source": [
    "## Our Ground Truth Images"
   ]
  },
  {
   "cell_type": "code",
   "execution_count": null,
   "metadata": {},
   "outputs": [],
   "source": [
    "import glob\n",
    "from IPython.display import Image, display\n",
    "\n",
    "def showImages(path):\n",
    "    for imageName in glob.glob(path + '*.jpg'): \n",
    "        display(Image(filename=imageName))\n",
    "        print(imageName)"
   ]
  },
  {
   "cell_type": "code",
   "execution_count": null,
   "metadata": {},
   "outputs": [],
   "source": [
    "# Nice Images\n",
    "showImages('./images/nice/')"
   ]
  },
  {
   "cell_type": "code",
   "execution_count": null,
   "metadata": {},
   "outputs": [],
   "source": [
    "# Angry Images\n",
    "showImages('./images/angry/')"
   ]
  },
  {
   "cell_type": "markdown",
   "metadata": {},
   "source": [
    "## Lets Augment Our Data"
   ]
  },
  {
   "cell_type": "code",
   "execution_count": null,
   "metadata": {},
   "outputs": [],
   "source": [
    "%%bash\n",
    "rm -rf ./data\n",
    "mkdir ./data\n",
    "mkdir ./data/train ./data/valid\n",
    "mkdir ./data/train/angry ./data/train/nice\n",
    "mkdir ./data/valid/angry ./data/valid/nice"
   ]
  },
  {
   "cell_type": "code",
   "execution_count": null,
   "metadata": {},
   "outputs": [],
   "source": [
    "#Data Augmentation with Augmentor\n",
    "!pip install Augmentor --upgrade"
   ]
  },
  {
   "cell_type": "code",
   "execution_count": null,
   "metadata": {},
   "outputs": [],
   "source": [
    "import Augmentor\n",
    "\n",
    "#nice training data\n",
    "p = Augmentor.Pipeline(\"./images/nice\")\n",
    "p.rotate(probability=0.7, max_left_rotation=10, max_right_rotation=10)\n",
    "p.flip_top_bottom(probability=0.1)\n",
    "p.zoom(probability=0.5, min_factor=1.1, max_factor=1.5)\n",
    "p.sample(1000)\n",
    "\n",
    "#angry training data\n",
    "p = Augmentor.Pipeline(\"./images/angry\")\n",
    "p.rotate(probability=0.7, max_left_rotation=10, max_right_rotation=10)\n",
    "p.flip_top_bottom(probability=0.1)\n",
    "p.zoom(probability=0.5, min_factor=1.1, max_factor=1.5)\n",
    "p.sample(1000)\n",
    "\n",
    "!mv ./images/nice/output/* ./data/train/nice/\n",
    "!mv ./images/angry/output/* ./data/train/angry/\n",
    "!rm -rf ./images/nice/output/ ./images/angry/output/\n",
    "\n",
    "#nice validaiton data - 200 images\n",
    "p = Augmentor.Pipeline(\"./images/nice\")\n",
    "p.rotate(probability=0.7, max_left_rotation=10, max_right_rotation=10)\n",
    "p.flip_top_bottom(probability=0.1)\n",
    "p.zoom(probability=0.5, min_factor=1.1, max_factor=1.5)\n",
    "p.sample(200)\n",
    "\n",
    "#angry validation data - 200 images\n",
    "p = Augmentor.Pipeline(\"./images/angry\")\n",
    "p.rotate(probability=0.7, max_left_rotation=10, max_right_rotation=10)\n",
    "p.flip_top_bottom(probability=0.1)\n",
    "p.zoom(probability=0.5, min_factor=1.1, max_factor=1.5)\n",
    "p.sample(200)\n",
    "\n",
    "!mv ./images/nice/output/* ./data/valid/nice/\n",
    "!mv ./images/angry/output/* ./data/valid/angry/\n",
    "!rm -rf ./images/nice/output/ ./images/angry/output/\n"
   ]
  },
  {
   "cell_type": "markdown",
   "metadata": {},
   "source": [
    "## Copy our data to S3..."
   ]
  },
  {
   "cell_type": "code",
   "execution_count": null,
   "metadata": {},
   "outputs": [],
   "source": [
    "!aws s3 cp --recursive --quiet ./data/ s3://<<your bucket>>/OwnModel/data"
   ]
  }
 ],
 "metadata": {
  "kernelspec": {
   "display_name": "conda_python3",
   "language": "python",
   "name": "conda_python3"
  },
  "language_info": {
   "codemirror_mode": {
    "name": "ipython",
    "version": 3
   },
   "file_extension": ".py",
   "mimetype": "text/x-python",
   "name": "python",
   "nbconvert_exporter": "python",
   "pygments_lexer": "ipython3",
   "version": "3.6.5"
  }
 },
 "nbformat": 4,
 "nbformat_minor": 4
}
